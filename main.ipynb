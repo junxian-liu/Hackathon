{
 "cells": [
  {
   "cell_type": "code",
   "execution_count": 206,
   "metadata": {},
   "outputs": [],
   "source": [
    "import pandas as pd\n",
    "import numpy as np\n",
    "import requests\n",
    "from bs4 import BeautifulSoup\n",
    "\n",
    "ticker = 'TSLA'\n",
    "url = \"https://finance.yahoo.com/quote/TSLA?p=TSLA\"\n",
    "html = requests.get(url)"
   ]
  },
  {
   "cell_type": "code",
   "execution_count": 207,
   "metadata": {},
   "outputs": [],
   "source": [
    "s = BeautifulSoup(html.content, \"html.parser\")"
   ]
  },
  {
   "cell_type": "code",
   "execution_count": 208,
   "metadata": {},
   "outputs": [
    {
     "name": "stdout",
     "output_type": "stream",
     "text": [
      "Tesla, Inc. (TSLA)\n"
     ]
    }
   ],
   "source": [
    "results_info = s.find(id = 'Lead-5-QuoteHeader-Proxy')\n",
    "company_title = results_info.find_all('h1', class_= 'D(ib) Fz(18px)')[0].text\n",
    "current_price = results_info.find_all('fin-streamer', class_='Fw(b) Fz(36px) Mb(-4px) D(ib)')[0].text\n",
    "\n",
    "print(company_title)"
   ]
  },
  {
   "cell_type": "code",
   "execution_count": 209,
   "metadata": {},
   "outputs": [],
   "source": [
    "financials = s.find(id = 'Main')\n",
    "current_financials = financials.find_all('td', class_='Ta(end) Fw(600) Lh(14px)')"
   ]
  },
  {
   "cell_type": "code",
   "execution_count": 210,
   "metadata": {},
   "outputs": [
    {
     "name": "stdout",
     "output_type": "stream",
     "text": [
      "582.537B 59.11 3.10\n"
     ]
    }
   ],
   "source": [
    "market_cap = current_financials[8].text\n",
    "pe_ratio = current_financials[10].text\n",
    "eps = current_financials[11].text\n",
    "\n",
    "print(market_cap, pe_ratio, eps)"
   ]
  },
  {
   "cell_type": "code",
   "execution_count": 211,
   "metadata": {},
   "outputs": [
    {
     "data": {
      "text/plain": [
       "['TSLA', 'NIO', 'RIVN', 'LCID', 'F', 'XPEV']"
      ]
     },
     "execution_count": 211,
     "metadata": {},
     "output_type": "execute_result"
    }
   ],
   "source": [
    "#Get tickers of similar companies to user input\n",
    "\n",
    "similar = s.find('section', id = 'similar-by-symbol')\n",
    "companys = similar.find_all('a', class_= 'Fw(b) Ell D(b) C($linkColor) Pos(r) Z(2)')\n",
    "\n",
    "company_similar_ticker = [ticker]\n",
    "len(companys)\n",
    "\n",
    "for i in range(len(companys)):\n",
    "    company_similar_ticker.append(companys[i].text)\n",
    "\n",
    "company_similar_ticker"
   ]
  },
  {
   "cell_type": "code",
   "execution_count": 224,
   "metadata": {},
   "outputs": [
    {
     "data": {
      "text/html": [
       "<div>\n",
       "<style scoped>\n",
       "    .dataframe tbody tr th:only-of-type {\n",
       "        vertical-align: middle;\n",
       "    }\n",
       "\n",
       "    .dataframe tbody tr th {\n",
       "        vertical-align: top;\n",
       "    }\n",
       "\n",
       "    .dataframe thead th {\n",
       "        text-align: right;\n",
       "    }\n",
       "</style>\n",
       "<table border=\"1\" class=\"dataframe\">\n",
       "  <thead>\n",
       "    <tr style=\"text-align: right;\">\n",
       "      <th></th>\n",
       "      <th>Tickers</th>\n",
       "      <th>Company Name</th>\n",
       "      <th>Current Price</th>\n",
       "      <th>Market Cap</th>\n",
       "      <th>EPS</th>\n",
       "      <th>P/E Ratio</th>\n",
       "    </tr>\n",
       "  </thead>\n",
       "  <tbody>\n",
       "    <tr>\n",
       "      <th>0</th>\n",
       "      <td>TSLA</td>\n",
       "      <td>Tesla, Inc. (TSLA)</td>\n",
       "      <td>183.25</td>\n",
       "      <td>582.537B</td>\n",
       "      <td>3.10</td>\n",
       "      <td>59.112903</td>\n",
       "    </tr>\n",
       "    <tr>\n",
       "      <th>1</th>\n",
       "      <td>NIO</td>\n",
       "      <td>NIO Inc. (NIO)</td>\n",
       "      <td>6.14</td>\n",
       "      <td>12.771B</td>\n",
       "      <td>-1.79</td>\n",
       "      <td>-3.430168</td>\n",
       "    </tr>\n",
       "    <tr>\n",
       "      <th>2</th>\n",
       "      <td>RIVN</td>\n",
       "      <td>Rivian Automotive, Inc. (RIVN)</td>\n",
       "      <td>15.29</td>\n",
       "      <td>14.644B</td>\n",
       "      <td>-6.02</td>\n",
       "      <td>-2.539867</td>\n",
       "    </tr>\n",
       "    <tr>\n",
       "      <th>3</th>\n",
       "      <td>LCID</td>\n",
       "      <td>Lucid Group, Inc. (LCID)</td>\n",
       "      <td>2.6500</td>\n",
       "      <td>6.067B</td>\n",
       "      <td>-1.5000</td>\n",
       "      <td>-1.766667</td>\n",
       "    </tr>\n",
       "    <tr>\n",
       "      <th>4</th>\n",
       "      <td>F</td>\n",
       "      <td>Ford Motor Company (F)</td>\n",
       "      <td>11.39</td>\n",
       "      <td>45.594B</td>\n",
       "      <td>1.53</td>\n",
       "      <td>7.444444</td>\n",
       "    </tr>\n",
       "    <tr>\n",
       "      <th>5</th>\n",
       "      <td>XPEV</td>\n",
       "      <td>XPeng Inc. (XPEV)</td>\n",
       "      <td>8.97</td>\n",
       "      <td>8.462B</td>\n",
       "      <td>-1.62</td>\n",
       "      <td>-5.537037</td>\n",
       "    </tr>\n",
       "  </tbody>\n",
       "</table>\n",
       "</div>"
      ],
      "text/plain": [
       "  Tickers                    Company Name Current Price Market Cap      EPS  \\\n",
       "0    TSLA              Tesla, Inc. (TSLA)        183.25   582.537B     3.10   \n",
       "1     NIO                  NIO Inc. (NIO)          6.14    12.771B    -1.79   \n",
       "2    RIVN  Rivian Automotive, Inc. (RIVN)         15.29    14.644B    -6.02   \n",
       "3    LCID        Lucid Group, Inc. (LCID)        2.6500     6.067B  -1.5000   \n",
       "4       F          Ford Motor Company (F)         11.39    45.594B     1.53   \n",
       "5    XPEV               XPeng Inc. (XPEV)          8.97     8.462B    -1.62   \n",
       "\n",
       "   P/E Ratio  \n",
       "0  59.112903  \n",
       "1  -3.430168  \n",
       "2  -2.539867  \n",
       "3  -1.766667  \n",
       "4   7.444444  \n",
       "5  -5.537037  "
      ]
     },
     "execution_count": 224,
     "metadata": {},
     "output_type": "execute_result"
    }
   ],
   "source": [
    "company_name = []\n",
    "curr_price = []\n",
    "mar_cap = []\n",
    "per = []\n",
    "earnings = []\n",
    "\n",
    "for tick in company_similar_ticker:\n",
    "    url_1 = f\"https://finance.yahoo.com/quote/{tick}?p={tick}\"\n",
    "\n",
    "    html_1 = requests.get(url_1)\n",
    "    t = BeautifulSoup(html_1.content, \"html.parser\")\n",
    "\n",
    "    results = t.find(id = 'Lead-5-QuoteHeader-Proxy')\n",
    "    comp_title = results.find_all('h1', class_= 'D(ib) Fz(18px)')[0].text\n",
    "    cur_price = results.find_all('fin-streamer', class_='Fw(b) Fz(36px) Mb(-4px) D(ib)')[0].text\n",
    "\n",
    "    financial = t.find(id = 'Main')\n",
    "    curr_financials = financial.find_all('td', class_='Ta(end) Fw(600) Lh(14px)')   \n",
    "\n",
    "    market_cap = curr_financials[8].text\n",
    "    eps = curr_financials[11].text  \n",
    "    \n",
    "    company_name.append(comp_title)\n",
    "    curr_price.append(cur_price)\n",
    "    mar_cap.append(market_cap)\n",
    "    earnings.append(eps)\n",
    "\n",
    "\n",
    "similar_dict = {'Tickers': company_similar_ticker, 'Company Name': company_name, 'Current Price': curr_price, 'Market Cap': mar_cap, 'EPS': earnings}\n",
    "similar_df = pd.DataFrame(similar_dict)\n",
    "per = similar_df.get('Current Price').astype(float) / similar_df.get('EPS').astype(float)\n",
    "similar_df['P/E Ratio']= per\n",
    "similar_df\n",
    "\n",
    "\n",
    "    \n"
   ]
  },
  {
   "cell_type": "code",
   "execution_count": 226,
   "metadata": {},
   "outputs": [
    {
     "name": "stdout",
     "output_type": "stream",
     "text": [
      "59.11290322580645 3.10\n"
     ]
    }
   ],
   "source": [
    "main_PE = similar_df.loc[0, 'P/E Ratio']\n",
    "main_EPS = similar_df.loc[0, 'EPS']\n",
    "\n",
    "print(main_PE, main_EPS)"
   ]
  },
  {
   "cell_type": "code",
   "execution_count": 231,
   "metadata": {},
   "outputs": [
    {
     "name": "stdout",
     "output_type": "stream",
     "text": [
      "5 3.96\n"
     ]
    }
   ],
   "source": [
    "eps_comparison = main_EPS > similar_df.get('EPS')\n",
    "if(eps_comparison.sum() > len(eps_comparison) * 0.8):\n",
    "    print(eps_comparison.sum(), len(eps_comparison) * 0.66)\n",
    "    indicator = 0.3\n",
    "\n",
    "if(main_PE > 0.25):\n",
    "    if(indicator != 0):\n",
    "        indicator = indicator * 0.5\n",
    "    else:\n",
    "        indicator = -0.2\n",
    "else:\n",
    "    if(indicator != 0):\n",
    "        indicator = indicator * 2\n",
    "    else:\n",
    "        indicator = 0.2"
   ]
  },
  {
   "cell_type": "code",
   "execution_count": null,
   "metadata": {},
   "outputs": [],
   "source": []
  }
 ],
 "metadata": {
  "kernelspec": {
   "display_name": "Python 3",
   "language": "python",
   "name": "python3"
  },
  "language_info": {
   "codemirror_mode": {
    "name": "ipython",
    "version": 3
   },
   "file_extension": ".py",
   "mimetype": "text/x-python",
   "name": "python",
   "nbconvert_exporter": "python",
   "pygments_lexer": "ipython3",
   "version": "3.11.4"
  }
 },
 "nbformat": 4,
 "nbformat_minor": 2
}

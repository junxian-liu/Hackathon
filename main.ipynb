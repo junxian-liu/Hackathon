{
 "cells": [
  {
   "cell_type": "code",
   "execution_count": 56,
   "metadata": {},
   "outputs": [],
   "source": [
    "from flask import Flask, request, jsonify, render_template\n",
    "import pandas as pd\n",
    "import numpy as np\n",
    "import requests\n",
    "from bs4 import BeautifulSoup\n",
    "from TechnicalAnalysis import averages\n",
    "import seaborn as sns\n",
    "import matplotlib.pyplot as plt\n",
    "\n",
    "ticker = 'TSLA'\n",
    "URL = f'https://finance.yahoo.com/quote/{ticker}?p=AAPL'\n",
    "html = requests.get(URL)"
   ]
  },
  {
   "cell_type": "code",
   "execution_count": 57,
   "metadata": {},
   "outputs": [
    {
     "name": "stdout",
     "output_type": "stream",
     "text": [
      "The autoreload extension is already loaded. To reload it, use:\n",
      "  %reload_ext autoreload\n"
     ]
    }
   ],
   "source": [
    "%load_ext autoreload\n",
    "%autoreload 2"
   ]
  },
  {
   "cell_type": "code",
   "execution_count": 58,
   "metadata": {},
   "outputs": [],
   "source": [
    "from income import *"
   ]
  },
  {
   "cell_type": "code",
   "execution_count": 59,
   "metadata": {},
   "outputs": [
    {
     "data": {
      "text/html": [
       "<div>\n",
       "<style scoped>\n",
       "    .dataframe tbody tr th:only-of-type {\n",
       "        vertical-align: middle;\n",
       "    }\n",
       "\n",
       "    .dataframe tbody tr th {\n",
       "        vertical-align: top;\n",
       "    }\n",
       "\n",
       "    .dataframe thead th {\n",
       "        text-align: right;\n",
       "    }\n",
       "</style>\n",
       "<table border=\"1\" class=\"dataframe\">\n",
       "  <thead>\n",
       "    <tr style=\"text-align: right;\">\n",
       "      <th></th>\n",
       "      <th>Sales/Revenue</th>\n",
       "      <th>Sales Growth</th>\n",
       "      <th>Gross Income</th>\n",
       "    </tr>\n",
       "    <tr>\n",
       "      <th>Period Ending</th>\n",
       "      <th></th>\n",
       "      <th></th>\n",
       "      <th></th>\n",
       "    </tr>\n",
       "  </thead>\n",
       "  <tbody>\n",
       "    <tr>\n",
       "      <th>31-Dec-2022</th>\n",
       "      <td>24.32</td>\n",
       "      <td>-0.0337</td>\n",
       "      <td>5.78</td>\n",
       "    </tr>\n",
       "    <tr>\n",
       "      <th>31-Mar-2023</th>\n",
       "      <td>23.33</td>\n",
       "      <td>-0.0407</td>\n",
       "      <td>4.51</td>\n",
       "    </tr>\n",
       "    <tr>\n",
       "      <th>30-Jun-2023</th>\n",
       "      <td>24.93</td>\n",
       "      <td>0.0685</td>\n",
       "      <td>4.53</td>\n",
       "    </tr>\n",
       "    <tr>\n",
       "      <th>30-Sep-2023</th>\n",
       "      <td>23.35</td>\n",
       "      <td>-0.0633</td>\n",
       "      <td>4.18</td>\n",
       "    </tr>\n",
       "  </tbody>\n",
       "</table>\n",
       "</div>"
      ],
      "text/plain": [
       "               Sales/Revenue  Sales Growth  Gross Income\n",
       "Period Ending                                           \n",
       "31-Dec-2022            24.32       -0.0337          5.78\n",
       "31-Mar-2023            23.33       -0.0407          4.51\n",
       "30-Jun-2023            24.93        0.0685          4.53\n",
       "30-Sep-2023            23.35       -0.0633          4.18"
      ]
     },
     "execution_count": 59,
     "metadata": {},
     "output_type": "execute_result"
    }
   ],
   "source": [
    "quarter_df = financial('tsla')\n",
    "quarter_df"
   ]
  },
  {
   "cell_type": "code",
   "execution_count": 60,
   "metadata": {},
   "outputs": [
    {
     "data": {
      "text/plain": [
       "Period Ending\n",
       "31-Dec-2022    4.207612\n",
       "31-Mar-2023    5.172949\n",
       "30-Jun-2023    5.503311\n",
       "30-Sep-2023    5.586124\n",
       "dtype: float64"
      ]
     },
     "execution_count": 60,
     "metadata": {},
     "output_type": "execute_result"
    }
   ],
   "source": [
    "quarter_df['Sales/Revenue'] / quarter_df[\"Gross Income\"]"
   ]
  },
  {
   "cell_type": "code",
   "execution_count": 61,
   "metadata": {},
   "outputs": [],
   "source": [
    "s = BeautifulSoup(html.content, \"html.parser\")"
   ]
  },
  {
   "cell_type": "code",
   "execution_count": 62,
   "metadata": {},
   "outputs": [
    {
     "name": "stdout",
     "output_type": "stream",
     "text": [
      "Tesla, Inc. (TSLA)\n"
     ]
    }
   ],
   "source": [
    "results_info = s.find(id = 'Lead-5-QuoteHeader-Proxy')\n",
    "company_title = results_info.find_all('h1', class_= 'D(ib) Fz(18px)')[0].text\n",
    "current_price = results_info.find_all('fin-streamer', class_='Fw(b) Fz(36px) Mb(-4px) D(ib)')[0].text\n",
    "\n",
    "print(company_title)"
   ]
  },
  {
   "cell_type": "code",
   "execution_count": 63,
   "metadata": {},
   "outputs": [],
   "source": [
    "financials = s.find(id = 'Main')\n",
    "current_financials = financials.find_all('td', class_='Ta(end) Fw(600) Lh(14px)')"
   ]
  },
  {
   "cell_type": "code",
   "execution_count": 64,
   "metadata": {},
   "outputs": [
    {
     "name": "stdout",
     "output_type": "stream",
     "text": [
      "582.537B 59.11 3.10\n"
     ]
    }
   ],
   "source": [
    "market_cap = current_financials[8].text\n",
    "pe_ratio = current_financials[10].text\n",
    "eps = current_financials[11].text\n",
    "\n",
    "print(market_cap, pe_ratio, eps)"
   ]
  },
  {
   "cell_type": "code",
   "execution_count": 65,
   "metadata": {},
   "outputs": [
    {
     "data": {
      "text/plain": [
       "['TSLA', 'NIO', 'RIVN', 'LCID', 'F', 'XPEV']"
      ]
     },
     "execution_count": 65,
     "metadata": {},
     "output_type": "execute_result"
    }
   ],
   "source": [
    "#Get tickers of similar companies to user input\n",
    "\n",
    "similar = s.find('section', id = 'similar-by-symbol')\n",
    "companys = similar.find_all('a', class_= 'Fw(b) Ell D(b) C($linkColor) Pos(r) Z(2)')\n",
    "\n",
    "company_similar_ticker = [ticker]\n",
    "len(companys)\n",
    "\n",
    "for i in range(len(companys)):\n",
    "    company_similar_ticker.append(companys[i].text)\n",
    "\n",
    "company_similar_ticker"
   ]
  },
  {
   "cell_type": "code",
   "execution_count": 66,
   "metadata": {},
   "outputs": [
    {
     "data": {
      "text/html": [
       "<div>\n",
       "<style scoped>\n",
       "    .dataframe tbody tr th:only-of-type {\n",
       "        vertical-align: middle;\n",
       "    }\n",
       "\n",
       "    .dataframe tbody tr th {\n",
       "        vertical-align: top;\n",
       "    }\n",
       "\n",
       "    .dataframe thead th {\n",
       "        text-align: right;\n",
       "    }\n",
       "</style>\n",
       "<table border=\"1\" class=\"dataframe\">\n",
       "  <thead>\n",
       "    <tr style=\"text-align: right;\">\n",
       "      <th></th>\n",
       "      <th>Tickers</th>\n",
       "      <th>Company Name</th>\n",
       "      <th>Current Price</th>\n",
       "      <th>Market Cap</th>\n",
       "      <th>EPS</th>\n",
       "      <th>P/E Ratio</th>\n",
       "    </tr>\n",
       "  </thead>\n",
       "  <tbody>\n",
       "    <tr>\n",
       "      <th>0</th>\n",
       "      <td>TSLA</td>\n",
       "      <td>Tesla, Inc. (TSLA)</td>\n",
       "      <td>183.25</td>\n",
       "      <td>582.537B</td>\n",
       "      <td>3.10</td>\n",
       "      <td>59.112903</td>\n",
       "    </tr>\n",
       "    <tr>\n",
       "      <th>1</th>\n",
       "      <td>NIO</td>\n",
       "      <td>NIO Inc. (NIO)</td>\n",
       "      <td>6.14</td>\n",
       "      <td>12.771B</td>\n",
       "      <td>-1.79</td>\n",
       "      <td>-3.430168</td>\n",
       "    </tr>\n",
       "    <tr>\n",
       "      <th>2</th>\n",
       "      <td>RIVN</td>\n",
       "      <td>Rivian Automotive, Inc. (RIVN)</td>\n",
       "      <td>15.29</td>\n",
       "      <td>14.644B</td>\n",
       "      <td>-6.02</td>\n",
       "      <td>-2.539867</td>\n",
       "    </tr>\n",
       "    <tr>\n",
       "      <th>3</th>\n",
       "      <td>LCID</td>\n",
       "      <td>Lucid Group, Inc. (LCID)</td>\n",
       "      <td>2.6500</td>\n",
       "      <td>6.067B</td>\n",
       "      <td>-1.5000</td>\n",
       "      <td>-1.766667</td>\n",
       "    </tr>\n",
       "    <tr>\n",
       "      <th>4</th>\n",
       "      <td>F</td>\n",
       "      <td>Ford Motor Company (F)</td>\n",
       "      <td>11.39</td>\n",
       "      <td>45.594B</td>\n",
       "      <td>1.53</td>\n",
       "      <td>7.444444</td>\n",
       "    </tr>\n",
       "    <tr>\n",
       "      <th>5</th>\n",
       "      <td>XPEV</td>\n",
       "      <td>XPeng Inc. (XPEV)</td>\n",
       "      <td>8.97</td>\n",
       "      <td>8.462B</td>\n",
       "      <td>-1.62</td>\n",
       "      <td>-5.537037</td>\n",
       "    </tr>\n",
       "  </tbody>\n",
       "</table>\n",
       "</div>"
      ],
      "text/plain": [
       "  Tickers                    Company Name Current Price Market Cap      EPS  \\\n",
       "0    TSLA              Tesla, Inc. (TSLA)        183.25   582.537B     3.10   \n",
       "1     NIO                  NIO Inc. (NIO)          6.14    12.771B    -1.79   \n",
       "2    RIVN  Rivian Automotive, Inc. (RIVN)         15.29    14.644B    -6.02   \n",
       "3    LCID        Lucid Group, Inc. (LCID)        2.6500     6.067B  -1.5000   \n",
       "4       F          Ford Motor Company (F)         11.39    45.594B     1.53   \n",
       "5    XPEV               XPeng Inc. (XPEV)          8.97     8.462B    -1.62   \n",
       "\n",
       "   P/E Ratio  \n",
       "0  59.112903  \n",
       "1  -3.430168  \n",
       "2  -2.539867  \n",
       "3  -1.766667  \n",
       "4   7.444444  \n",
       "5  -5.537037  "
      ]
     },
     "execution_count": 66,
     "metadata": {},
     "output_type": "execute_result"
    }
   ],
   "source": [
    "company_name = []\n",
    "curr_price = []\n",
    "mar_cap = []\n",
    "per = []\n",
    "earnings = []\n",
    "\n",
    "for tick in company_similar_ticker:\n",
    "    url_1 = f\"https://finance.yahoo.com/quote/{tick}?p={tick}\"\n",
    "\n",
    "    html_1 = requests.get(url_1)\n",
    "    t = BeautifulSoup(html_1.content, \"html.parser\")\n",
    "\n",
    "    results = t.find(id = 'Lead-5-QuoteHeader-Proxy')\n",
    "    comp_title = results.find_all('h1', class_= 'D(ib) Fz(18px)')[0].text\n",
    "    cur_price = results.find_all('fin-streamer', class_='Fw(b) Fz(36px) Mb(-4px) D(ib)')[0].text\n",
    "\n",
    "    financial = t.find(id = 'Main')\n",
    "    curr_financials = financial.find_all('td', class_='Ta(end) Fw(600) Lh(14px)')   \n",
    "\n",
    "    market_cap = curr_financials[8].text\n",
    "    eps = curr_financials[11].text  \n",
    "    \n",
    "    company_name.append(comp_title)\n",
    "    curr_price.append(cur_price)\n",
    "    mar_cap.append(market_cap)\n",
    "    earnings.append(eps)\n",
    "\n",
    "\n",
    "similar_dict = {'Tickers': company_similar_ticker, 'Company Name': company_name, 'Current Price': curr_price, 'Market Cap': mar_cap, 'EPS': earnings}\n",
    "similar_df = pd.DataFrame(similar_dict)\n",
    "per = similar_df.get('Current Price').astype(float) / similar_df.get('EPS').astype(float)\n",
    "similar_df['P/E Ratio']= per\n",
    "similar_df"
   ]
  },
  {
   "cell_type": "code",
   "execution_count": 67,
   "metadata": {},
   "outputs": [
    {
     "name": "stdout",
     "output_type": "stream",
     "text": [
      "59.11290322580645 3.10\n"
     ]
    }
   ],
   "source": [
    "main_PE = similar_df.loc[0, 'P/E Ratio']\n",
    "main_EPS = similar_df.loc[0, 'EPS']\n",
    "\n",
    "print(main_PE, main_EPS)"
   ]
  },
  {
   "cell_type": "code",
   "execution_count": 68,
   "metadata": {},
   "outputs": [],
   "source": [
    "if((float(main_PE) < 0) or (float(main_EPS) < 0)):\n",
    "        indicator = -0.8\n"
   ]
  },
  {
   "cell_type": "code",
   "execution_count": 69,
   "metadata": {},
   "outputs": [
    {
     "name": "stdout",
     "output_type": "stream",
     "text": [
      "5 3.96\n"
     ]
    }
   ],
   "source": [
    "eps_comparison = main_EPS > similar_df.get('EPS')\n",
    "if(eps_comparison.sum() > len(eps_comparison) * 0.8):\n",
    "    print(eps_comparison.sum(), len(eps_comparison) * 0.66)\n",
    "    indicator = 0.3\n",
    "\n",
    "if(main_PE > 0.25):\n",
    "    if(indicator != 0):\n",
    "        indicator = indicator * 0.5\n",
    "    else:\n",
    "        indicator = -0.2\n",
    "else:\n",
    "    if(indicator != 0):\n",
    "        indicator = indicator * 2\n",
    "    else:\n",
    "        indicator = 0.2"
   ]
  },
  {
   "cell_type": "code",
   "execution_count": 81,
   "metadata": {},
   "outputs": [
    {
     "ename": "UnboundLocalError",
     "evalue": "cannot access local variable 'rawData' where it is not associated with a value",
     "output_type": "error",
     "traceback": [
      "\u001b[1;31m---------------------------------------------------------------------------\u001b[0m",
      "\u001b[1;31mUnboundLocalError\u001b[0m                         Traceback (most recent call last)",
      "Cell \u001b[1;32mIn[81], line 1\u001b[0m\n\u001b[1;32m----> 1\u001b[0m \u001b[43mvisualizations\u001b[49m\u001b[43m(\u001b[49m\u001b[38;5;124;43m'\u001b[39;49m\u001b[38;5;124;43mtsla\u001b[39;49m\u001b[38;5;124;43m'\u001b[39;49m\u001b[43m)\u001b[49m\n",
      "File \u001b[1;32mc:\\Users\\HP\\Desktop\\Hackathon\\Hackathon\\income.py:77\u001b[0m, in \u001b[0;36mvisualizations\u001b[1;34m(firm)\u001b[0m\n\u001b[0;32m     76\u001b[0m \u001b[38;5;28;01mdef\u001b[39;00m \u001b[38;5;21mvisualizations\u001b[39m(firm):\n\u001b[1;32m---> 77\u001b[0m     firm_arr \u001b[38;5;241m=\u001b[39m \u001b[43maverages\u001b[49m\u001b[38;5;241;43m.\u001b[39;49m\u001b[43mgetData\u001b[49m\u001b[43m(\u001b[49m\u001b[43mfirm\u001b[49m\u001b[43m)\u001b[49m\n\u001b[0;32m     78\u001b[0m     firm_df \u001b[38;5;241m=\u001b[39m pd\u001b[38;5;241m.\u001b[39mDataFrame({\u001b[38;5;124m\"\u001b[39m\u001b[38;5;124mDays after 2023-01-01\u001b[39m\u001b[38;5;124m\"\u001b[39m: np\u001b[38;5;241m.\u001b[39marange(\u001b[38;5;28mlen\u001b[39m(firm_arr)),\n\u001b[0;32m     79\u001b[0m               \u001b[38;5;124m\"\u001b[39m\u001b[38;5;124mClosing Stock Price\u001b[39m\u001b[38;5;124m\"\u001b[39m: firm_arr})\n\u001b[0;32m     81\u001b[0m     sns\u001b[38;5;241m.\u001b[39mset(style\u001b[38;5;241m=\u001b[39m\u001b[38;5;124m'\u001b[39m\u001b[38;5;124mwhitegrid\u001b[39m\u001b[38;5;124m'\u001b[39m);\n",
      "File \u001b[1;32mc:\\Users\\HP\\Desktop\\Hackathon\\Hackathon\\TechnicalAnalysis\\averages.py:32\u001b[0m, in \u001b[0;36mgetData\u001b[1;34m(ticker)\u001b[0m\n\u001b[0;32m     29\u001b[0m     \u001b[38;5;28;01mif\u001b[39;00m item \u001b[38;5;241m==\u001b[39m \u001b[38;5;124m'\u001b[39m\u001b[38;5;124mresults\u001b[39m\u001b[38;5;124m'\u001b[39m:\n\u001b[0;32m     30\u001b[0m         rawData \u001b[38;5;241m=\u001b[39m data[item]\n\u001b[1;32m---> 32\u001b[0m \u001b[43mclosingPrice\u001b[49m \u001b[38;5;241m=\u001b[39m []\n\u001b[0;32m     33\u001b[0m \u001b[38;5;28;01mfor\u001b[39;00m bar \u001b[38;5;129;01min\u001b[39;00m rawData:\n\u001b[0;32m     34\u001b[0m     \u001b[38;5;28;01mfor\u001b[39;00m category \u001b[38;5;129;01min\u001b[39;00m bar:\n",
      "\u001b[1;31mUnboundLocalError\u001b[0m: cannot access local variable 'rawData' where it is not associated with a value"
     ]
    }
   ],
   "source": [
    "visualizations('tsla')"
   ]
  },
  {
   "cell_type": "code",
   "execution_count": null,
   "metadata": {},
   "outputs": [],
   "source": []
  }
 ],
 "metadata": {
  "kernelspec": {
   "display_name": "Python 3",
   "language": "python",
   "name": "python3"
  },
  "language_info": {
   "codemirror_mode": {
    "name": "ipython",
    "version": 3
   },
   "file_extension": ".py",
   "mimetype": "text/x-python",
   "name": "python",
   "nbconvert_exporter": "python",
   "pygments_lexer": "ipython3",
   "version": "3.11.7"
  }
 },
 "nbformat": 4,
 "nbformat_minor": 2
}

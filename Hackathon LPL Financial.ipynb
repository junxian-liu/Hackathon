{
 "cells": [
  {
   "cell_type": "code",
   "execution_count": 307,
   "id": "1a31e088",
   "metadata": {},
   "outputs": [],
   "source": [
    "import requests\n",
    "from bs4 import BeautifulSoup\n",
    "import pandas as pd\n",
    "import numpy as np"
   ]
  },
  {
   "cell_type": "code",
   "execution_count": 308,
   "id": "7b7cf5da",
   "metadata": {},
   "outputs": [
    {
     "name": "stdout",
     "output_type": "stream",
     "text": [
      "The autoreload extension is already loaded. To reload it, use:\n",
      "  %reload_ext autoreload\n"
     ]
    }
   ],
   "source": [
    "%load_ext autoreload\n",
    "%autoreload 2"
   ]
  },
  {
   "cell_type": "code",
   "execution_count": 309,
   "id": "21ebb7aa",
   "metadata": {},
   "outputs": [],
   "source": [
    "from Income import *"
   ]
  },
  {
   "cell_type": "code",
   "execution_count": 310,
   "id": "088e8b3e",
   "metadata": {},
   "outputs": [
    {
     "name": "stdout",
     "output_type": "stream",
     "text": [
      "0\n",
      "7\n",
      "14\n",
      "21\n"
     ]
    }
   ],
   "source": [
    "for i in range(0, 25, 7):\n",
    "    print(i)"
   ]
  },
  {
   "cell_type": "code",
   "execution_count": 311,
   "id": "e5bdb22b",
   "metadata": {},
   "outputs": [
    {
     "data": {
      "text/plain": [
       "['30-Sep-2022', '31-Dec-2022', '31-Mar-2023', '30-Jun-2023', '30-Sep-2023']"
      ]
     },
     "execution_count": 311,
     "metadata": {},
     "output_type": "execute_result"
    }
   ],
   "source": [
    "checker = ['Item',\n",
    " 'Item',\n",
    " '30-Sep-2022',\n",
    " '31-Dec-2022',\n",
    " '31-Mar-2023',\n",
    " '30-Jun-2023',\n",
    " '30-Sep-2023',\n",
    " 'Sales/Revenue']\n",
    "\n",
    "checker[2:7]"
   ]
  },
  {
   "cell_type": "code",
   "execution_count": 312,
   "id": "17552756",
   "metadata": {},
   "outputs": [
    {
     "ename": "TypeError",
     "evalue": "financial() takes 0 positional arguments but 1 was given",
     "output_type": "error",
     "traceback": [
      "\u001b[1;31m---------------------------------------------------------------------------\u001b[0m",
      "\u001b[1;31mTypeError\u001b[0m                                 Traceback (most recent call last)",
      "Cell \u001b[1;32mIn[312], line 1\u001b[0m\n\u001b[1;32m----> 1\u001b[0m quarter_df \u001b[38;5;241m=\u001b[39m \u001b[43mfinancial\u001b[49m\u001b[43m(\u001b[49m\u001b[38;5;124;43m'\u001b[39;49m\u001b[38;5;124;43mtsla\u001b[39;49m\u001b[38;5;124;43m'\u001b[39;49m\u001b[43m)\u001b[49m\n\u001b[0;32m      2\u001b[0m quarter_df\n",
      "\u001b[1;31mTypeError\u001b[0m: financial() takes 0 positional arguments but 1 was given"
     ]
    }
   ],
   "source": [
    "quarter_df = financial('tsla')\n",
    "quarter_df"
   ]
  },
  {
   "cell_type": "code",
   "execution_count": 287,
   "id": "c09e4c6f",
   "metadata": {},
   "outputs": [
    {
     "data": {
      "text/plain": [
       "0    34.596774\n",
       "1    36.298507\n",
       "2    32.313019\n",
       "3    30.551471\n",
       "4    26.031215\n",
       "dtype: float64"
      ]
     },
     "execution_count": 287,
     "metadata": {},
     "output_type": "execute_result"
    }
   ],
   "source": [
    "quarter_df['Sales/Revenue'] / quarter_df[\"Depreciation\"]"
   ]
  },
  {
   "cell_type": "code",
   "execution_count": 288,
   "metadata": {},
   "outputs": [
    {
     "name": "stdout",
     "output_type": "stream",
     "text": [
      "Period Ending\n",
      "Sales/Revenue\n",
      "Sales Growth\n",
      "Cost of Goods Sold (COGS) incl. D&A\n",
      "COGS Growth\n",
      "COGS excluding D&A\n",
      "Depreciation & Amortization Expense\n",
      "Depreciation\n",
      "Amortization of Intangibles\n",
      "Gross Income\n",
      "Gross Income Growth\n",
      "Gross Profit Margin\n",
      "SG&A Expense\n",
      "SGA Growth\n",
      "Research & Development\n",
      "Other SG&A\n",
      "Other Operating Expense\n",
      "Unusual Expense\n",
      "EBIT after Unusual Expense\n",
      "Non Operating Income/Expense\n",
      "Non-Operating Interest Income\n",
      "Equity in Affiliates (Pretax)\n",
      "Interest Expense\n",
      "Interest Expense Growth\n",
      "Gross Interest Expense\n",
      "Interest Capitalized\n",
      "Pretax Income\n",
      "Pretax Income Growth\n",
      "Pretax Margin\n",
      "Income Tax\n",
      "Income Tax - Current Domestic\n",
      "Income Tax - Current Foreign\n",
      "Income Tax - Deferred Domestic\n",
      "Income Tax - Deferred Foreign\n",
      "Income Tax Credits\n",
      "Equity in Affiliates\n",
      "Other After Tax Income (Expense)\n",
      "Consolidated Net Income\n",
      "Minority Interest Expense\n",
      "Net Income\n",
      "Net Income Growth\n",
      "Net Margin Growth\n",
      "Extraordinaries & Discontinued Operations\n",
      "Extra Items & Gain/Loss Sale Of Assets\n",
      "Cumulative Effect - Accounting Chg\n",
      "Discontinued Operations\n",
      "Net Income After Extraordinaries\n",
      "Preferred Dividends\n",
      "Net Income Available to Common\n",
      "EPS (Basic)\n",
      "EPS (Basic) Growth\n",
      "Basic Shares Outstanding\n",
      "EPS (Diluted)\n",
      "EPS (Diluted) Growth\n",
      "Diluted Shares Outstanding\n",
      "EBITDA\n",
      "EBITDA Growth\n",
      "EBITDA Margin\n"
     ]
    }
   ],
   "source": [
    "for col in quarter_df.columns:\n",
    "    print(col)"
   ]
  },
  {
   "cell_type": "code",
   "execution_count": null,
   "id": "232d2c3e",
   "metadata": {},
   "outputs": [],
   "source": []
  }
 ],
 "metadata": {
  "kernelspec": {
   "display_name": "Python 3 (ipykernel)",
   "language": "python",
   "name": "python3"
  },
  "language_info": {
   "codemirror_mode": {
    "name": "ipython",
    "version": 3
   },
   "file_extension": ".py",
   "mimetype": "text/x-python",
   "name": "python",
   "nbconvert_exporter": "python",
   "pygments_lexer": "ipython3",
   "version": "3.11.7"
  }
 },
 "nbformat": 4,
 "nbformat_minor": 5
}
